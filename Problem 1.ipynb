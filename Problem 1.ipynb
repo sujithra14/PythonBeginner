{
 "cells": [
  {
   "cell_type": "code",
   "execution_count": 2,
   "id": "9e2bb90a",
   "metadata": {},
   "outputs": [
    {
     "data": {
      "text/plain": [
       "286.4788975654116"
      ]
     },
     "execution_count": 2,
     "metadata": {},
     "output_type": "execute_result"
    }
   ],
   "source": [
    "import math\n",
    "\n",
    "def radiantodegree(rad):\n",
    "    degree = rad*(180/math.pi)\n",
    "    return degree\n",
    "\n",
    "radiantodegree(5)"
   ]
  },
  {
   "cell_type": "code",
   "execution_count": null,
   "id": "2680fa62",
   "metadata": {},
   "outputs": [],
   "source": []
  }
 ],
 "metadata": {
  "kernelspec": {
   "display_name": "Python 3 (ipykernel)",
   "language": "python",
   "name": "python3"
  },
  "language_info": {
   "codemirror_mode": {
    "name": "ipython",
    "version": 3
   },
   "file_extension": ".py",
   "mimetype": "text/x-python",
   "name": "python",
   "nbconvert_exporter": "python",
   "pygments_lexer": "ipython3",
   "version": "3.9.13"
  }
 },
 "nbformat": 4,
 "nbformat_minor": 5
}
