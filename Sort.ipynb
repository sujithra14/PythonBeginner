{
 "cells": [
  {
   "cell_type": "code",
   "execution_count": 18,
   "id": "a04849df",
   "metadata": {},
   "outputs": [
    {
     "name": "stdout",
     "output_type": "stream",
     "text": [
      "[100, 70, 40, 20]\n"
     ]
    }
   ],
   "source": [
    "import math \n",
    "\n",
    "def sort(arr, sorttype):\n",
    "    sorttype = sorttype.lower()\n",
    "    if(sorttype=='asc'):\n",
    "        arr.sort()\n",
    "        \n",
    "    elif(sorttype=='des'):\n",
    "        arr.sort(reverse=True)\n",
    "    \n",
    "    return arr\n",
    "    \n",
    "    \n",
    "a = [40, 20, 70, 100]\n",
    "type = 'des'\n",
    "print(sort(a,type))"
   ]
  },
  {
   "cell_type": "code",
   "execution_count": null,
   "id": "6bd3218e",
   "metadata": {},
   "outputs": [],
   "source": []
  },
  {
   "cell_type": "code",
   "execution_count": null,
   "id": "ece4855a",
   "metadata": {},
   "outputs": [],
   "source": []
  }
 ],
 "metadata": {
  "kernelspec": {
   "display_name": "Python 3 (ipykernel)",
   "language": "python",
   "name": "python3"
  },
  "language_info": {
   "codemirror_mode": {
    "name": "ipython",
    "version": 3
   },
   "file_extension": ".py",
   "mimetype": "text/x-python",
   "name": "python",
   "nbconvert_exporter": "python",
   "pygments_lexer": "ipython3",
   "version": "3.9.13"
  }
 },
 "nbformat": 4,
 "nbformat_minor": 5
}
